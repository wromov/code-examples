{
 "cells": [
  {
   "cell_type": "code",
   "execution_count": 1,
   "id": "211a0b7c",
   "metadata": {},
   "outputs": [
    {
     "data": {
      "text/html": [
       "<div>\n",
       "<style scoped>\n",
       "    .dataframe tbody tr th:only-of-type {\n",
       "        vertical-align: middle;\n",
       "    }\n",
       "\n",
       "    .dataframe tbody tr th {\n",
       "        vertical-align: top;\n",
       "    }\n",
       "\n",
       "    .dataframe thead th {\n",
       "        text-align: right;\n",
       "    }\n",
       "</style>\n",
       "<table border=\"1\" class=\"dataframe\">\n",
       "  <thead>\n",
       "    <tr style=\"text-align: right;\">\n",
       "      <th></th>\n",
       "      <th>Name</th>\n",
       "      <th>Balance</th>\n",
       "      <th>less_than_5_million?</th>\n",
       "    </tr>\n",
       "  </thead>\n",
       "  <tbody>\n",
       "    <tr>\n",
       "      <th>0</th>\n",
       "      <td>YU46</td>\n",
       "      <td>1329030.26</td>\n",
       "      <td>nan</td>\n",
       "    </tr>\n",
       "    <tr>\n",
       "      <th>1</th>\n",
       "      <td>BWLK</td>\n",
       "      <td>-5076830.0</td>\n",
       "      <td>True</td>\n",
       "    </tr>\n",
       "    <tr>\n",
       "      <th>2</th>\n",
       "      <td>JKLO</td>\n",
       "      <td>9030.26</td>\n",
       "      <td>nan</td>\n",
       "    </tr>\n",
       "    <tr>\n",
       "      <th>3</th>\n",
       "      <td>YU50</td>\n",
       "      <td>0.0</td>\n",
       "      <td>nan</td>\n",
       "    </tr>\n",
       "  </tbody>\n",
       "</table>\n",
       "</div>"
      ],
      "text/plain": [
       "   Name     Balance less_than_5_million?\n",
       "0  YU46  1329030.26                  nan\n",
       "1  BWLK  -5076830.0                 True\n",
       "2  JKLO     9030.26                  nan\n",
       "3  YU50         0.0                  nan"
      ]
     },
     "execution_count": 1,
     "metadata": {},
     "output_type": "execute_result"
    }
   ],
   "source": [
    "import pandas as pd\n",
    "#assuming you want all the sheets\n",
    "sheet_name = \"dummy_data\"\n",
    "all_dfs = pd.read_excel(f'{sheet_name}.xlsx', sheet_name=None) #reads all sheets into a dict\n",
    "\n",
    "final_df = pd.DataFrame(columns=['Name', 'Balance'])\n",
    "\n",
    "for name, df in all_dfs.items():\n",
    "    row = pd.Series([name, df.iloc[-1,-1]], index=['Name', 'Balance'])\n",
    "    final_df = pd.concat([final_df, row.to_frame().T], ignore_index=True)\n",
    "final_df.loc[final_df['Balance'] <= -5000000, 'less_than_5_million?'] = 'True'\n",
    "final_df.sort_values('Balance')\n",
    "final_df\n",
    "#final_df.to_csv(\"cash_report.csv\", mode='a')"
   ]
  },
  {
   "cell_type": "code",
   "execution_count": 4,
   "id": "a7bf40a6",
   "metadata": {},
   "outputs": [
    {
     "data": {
      "text/plain": [
       "dict_keys(['YU46', 'BWLK', 'JKLO', 'YU50'])"
      ]
     },
     "execution_count": 4,
     "metadata": {},
     "output_type": "execute_result"
    }
   ],
   "source": [
    "all_dfs.keys()"
   ]
  },
  {
   "cell_type": "code",
   "execution_count": 3,
   "id": "bc6ec179",
   "metadata": {},
   "outputs": [
    {
     "data": {
      "text/plain": [
       "['YU46', 'BWLK', 'JKLO', 'YU50']"
      ]
     },
     "execution_count": 3,
     "metadata": {},
     "output_type": "execute_result"
    }
   ],
   "source": [
    "xl = pd.ExcelFile(f'{sheet_name}.xlsx')\n",
    "xl.sheet_names"
   ]
  },
  {
   "cell_type": "code",
   "execution_count": null,
   "id": "fefb702f",
   "metadata": {},
   "outputs": [],
   "source": []
  }
 ],
 "metadata": {
  "kernelspec": {
   "display_name": "Python 3",
   "language": "python",
   "name": "python3"
  },
  "language_info": {
   "codemirror_mode": {
    "name": "ipython",
    "version": 3
   },
   "file_extension": ".py",
   "mimetype": "text/x-python",
   "name": "python",
   "nbconvert_exporter": "python",
   "pygments_lexer": "ipython3",
   "version": "3.11.5"
  }
 },
 "nbformat": 4,
 "nbformat_minor": 5
}
