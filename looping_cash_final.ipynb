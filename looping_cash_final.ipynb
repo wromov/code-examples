{
 "cells": [
  {
   "cell_type": "code",
   "execution_count": 5,
   "id": "211a0b7c",
   "metadata": {},
   "outputs": [
    {
     "name": "stdout",
     "output_type": "stream",
     "text": [
      "Enter the sheet name exactly: dummy data\n"
     ]
    }
   ],
   "source": [
    "import pandas as pd\n",
    "#assuming you want all the sheets\n",
    "sheet_name = input(\"Enter the sheet name exactly: \")\n",
    "all_dfs = pd.read_excel(f'{sheet_name}.xlsx', sheet_name=None) #reads all sheets into a dict\n",
    "\n",
    "final_df = pd.DataFrame(columns=['Name', 'Balance'])\n",
    "\n",
    "for name, df in all_dfs.items():\n",
    "    row = pd.Series([name, df.iloc[-1,-1]], index=['Name', 'Balance'])\n",
    "    final_df = pd.concat([final_df, row.to_frame().T], ignore_index=True)\n",
    "final_df.loc[final_df['Balance'] <= -5000000, 'less_than_5_million?'] = 'True'\n",
    "final_df.sort_values('Balance')\n",
    "final_df.to_csv(\"cash_report.csv\", mode='a')"
   ]
  },
  {
   "cell_type": "code",
   "execution_count": null,
   "id": "7586beb9",
   "metadata": {},
   "outputs": [],
   "source": []
  }
 ],
 "metadata": {
  "kernelspec": {
   "display_name": "Python 3",
   "language": "python",
   "name": "python3"
  },
  "language_info": {
   "codemirror_mode": {
    "name": "ipython",
    "version": 3
   },
   "file_extension": ".py",
   "mimetype": "text/x-python",
   "name": "python",
   "nbconvert_exporter": "python",
   "pygments_lexer": "ipython3",
   "version": "3.8.5"
  }
 },
 "nbformat": 4,
 "nbformat_minor": 5
}
